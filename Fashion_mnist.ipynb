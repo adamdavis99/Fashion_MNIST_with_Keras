{
 "cells": [
  {
   "cell_type": "code",
   "execution_count": 1,
   "metadata": {},
   "outputs": [
    {
     "name": "stdout",
     "output_type": "stream",
     "text": [
      "2.1.0\n"
     ]
    }
   ],
   "source": [
    "\n",
    "import tensorflow as tf\n",
    "print (tf.__version__)\n",
    "import numpy as np\n"
   ]
  },
  {
   "cell_type": "code",
   "execution_count": 2,
   "metadata": {},
   "outputs": [],
   "source": [
    "fashion_mnist = tf.keras.datasets.fashion_mnist\n",
    "(x_train,y_train),(x_test,y_test)=fashion_mnist.load_data()"
   ]
  },
  {
   "cell_type": "markdown",
   "metadata": {},
   "source": [
    "## Downloaded the data, Let's view the dataset  "
   ]
  },
  {
   "cell_type": "code",
   "execution_count": 3,
   "metadata": {},
   "outputs": [
    {
     "name": "stdout",
     "output_type": "stream",
     "text": [
      "Sandal\n"
     ]
    },
    {
     "data": {
      "image/png": "[encoded data removed]",
      "text/plain": [
       "<Figure size 432x288 with 1 Axes>"
      ]
     },
     "metadata": {
      "needs_background": "light"
     },
     "output_type": "display_data"
    }
   ],
   "source": [
    "import matplotlib.pyplot as plt\n",
    "plt.imshow(x_train[9])\n",
    "class_names=[\"T-shirt/Top\",\"Trouser\",\"Pullover\",\"Dress\",\"Coat\",\"Sandal\",\"Shirt\",\"Sneaker\",\"Bag\",\"Ankle-Boot\"]\n",
    "print(class_names[y_train[9]])"
   ]
  },
  {
   "cell_type": "markdown",
   "metadata": {},
   "source": [
    "# Normalize Train and Test Dataset by dividing by 255.0"
   ]
  },
  {
   "cell_type": "code",
   "execution_count": 4,
   "metadata": {},
   "outputs": [],
   "source": [
    "x_train_n=x_train/255.0\n",
    "x_test_n=x_test/255.0"
   ]
  },
  {
   "cell_type": "code",
   "execution_count": 5,
   "metadata": {},
   "outputs": [],
   "source": [
    "x_valid,x_tr=x_train_n[:5000],x_train_n[5000:]\n",
    "y_valid,y_tr=y_train[:5000],y_train[5000:]\n"
   ]
  },
  {
   "cell_type": "markdown",
   "metadata": {},
   "source": [
    "# There are 2 ways to create the Model Architecture\n",
    "### Sequential Model API\n",
    "### Functional API"
   ]
  },
  {
   "cell_type": "code",
   "execution_count": 6,
   "metadata": {},
   "outputs": [],
   "source": [
    "np.random.seed(42)\n",
    "tf.random.set_seed(42)"
   ]
  },
  {
   "cell_type": "code",
   "execution_count": 7,
   "metadata": {},
   "outputs": [
    {
     "name": "stdout",
     "output_type": "stream",
     "text": [
      "Model: \"sequential\"\n",
      "_________________________________________________________________\n",
      "Layer (type)                 Output Shape              Param #   \n",
      "=================================================================\n",
      "flatten (Flatten)            (None, 784)               0         \n",
      "_________________________________________________________________\n",
      "dense (Dense)                (None, 300)               235500    \n",
      "_________________________________________________________________\n",
      "dense_1 (Dense)              (None, 100)               30100     \n",
      "_________________________________________________________________\n",
      "dense_2 (Dense)              (None, 10)                1010      \n",
      "=================================================================\n",
      "Total params: 266,610\n",
      "Trainable params: 266,610\n",
      "Non-trainable params: 0\n",
      "_________________________________________________________________\n"
     ]
    }
   ],
   "source": [
    "model=tf.keras.models.Sequential()\n",
    "model.add(tf.keras.layers.Flatten(input_shape=[28,28]))\n",
    "model.add(tf.keras.layers.Dense(300,activation=\"relu\"))\n",
    "model.add(tf.keras.layers.Dense(100,activation=\"relu\"))\n",
    "model.add(tf.keras.layers.Dense(10,activation=\"softmax\"))\n",
    "model.summary()"
   ]
  },
  {
   "cell_type": "code",
   "execution_count": 11,
   "metadata": {},
   "outputs": [],
   "source": [
    "model.compile(loss=\"sparse_categorical_crossentropy\",\n",
    "             optimizer=\"sgd\",\n",
    "             metrics=[\"accuracy\"])"
   ]
  },
  {
   "cell_type": "code",
   "execution_count": 13,
   "metadata": {},
   "outputs": [
    {
     "name": "stdout",
     "output_type": "stream",
     "text": [
      "Train on 55000 samples, validate on 5000 samples\n",
      "Epoch 1/100\n",
      "55000/55000 [==============================] - 4s 67us/sample - loss: 0.7226 - accuracy: 0.7641 - val_loss: 0.5073 - val_accuracy: 0.8320\n",
      "Epoch 2/100\n",
      "55000/55000 [==============================] - 3s 58us/sample - loss: 0.4844 - accuracy: 0.8321 - val_loss: 0.4540 - val_accuracy: 0.8488\n",
      "Epoch 3/100\n",
      "55000/55000 [==============================] - 3s 62us/sample - loss: 0.4414 - accuracy: 0.8465 - val_loss: 0.4378 - val_accuracy: 0.8498\n",
      "Epoch 4/100\n",
      "55000/55000 [==============================] - 3s 61us/sample - loss: 0.4129 - accuracy: 0.8547 - val_loss: 0.4158 - val_accuracy: 0.8558\n",
      "Epoch 5/100\n",
      "55000/55000 [==============================] - 3s 59us/sample - loss: 0.3927 - accuracy: 0.8617 - val_loss: 0.3810 - val_accuracy: 0.8646\n",
      "Epoch 6/100\n",
      "55000/55000 [==============================] - 3s 60us/sample - loss: 0.3770 - accuracy: 0.8666 - val_loss: 0.3729 - val_accuracy: 0.8686\n",
      "Epoch 7/100\n",
      "55000/55000 [==============================] - 3s 57us/sample - loss: 0.3628 - accuracy: 0.8728 - val_loss: 0.3699 - val_accuracy: 0.8700\n",
      "Epoch 8/100\n",
      "55000/55000 [==============================] - 3s 57us/sample - loss: 0.3520 - accuracy: 0.8745 - val_loss: 0.3661 - val_accuracy: 0.8694\n",
      "Epoch 9/100\n",
      "55000/55000 [==============================] - 3s 57us/sample - loss: 0.3422 - accuracy: 0.8772 - val_loss: 0.3438 - val_accuracy: 0.8782\n",
      "Epoch 10/100\n",
      "55000/55000 [==============================] - 3s 59us/sample - loss: 0.3327 - accuracy: 0.8813 - val_loss: 0.3511 - val_accuracy: 0.8784\n",
      "Epoch 11/100\n",
      "55000/55000 [==============================] - 3s 60us/sample - loss: 0.3242 - accuracy: 0.8837 - val_loss: 0.3365 - val_accuracy: 0.8812\n",
      "Epoch 12/100\n",
      "55000/55000 [==============================] - 3s 59us/sample - loss: 0.3161 - accuracy: 0.8869 - val_loss: 0.3314 - val_accuracy: 0.8838\n",
      "Epoch 13/100\n",
      "55000/55000 [==============================] - 3s 58us/sample - loss: 0.3074 - accuracy: 0.8903 - val_loss: 0.3316 - val_accuracy: 0.8838\n",
      "Epoch 14/100\n",
      "55000/55000 [==============================] - 3s 61us/sample - loss: 0.3018 - accuracy: 0.8924 - val_loss: 0.3240 - val_accuracy: 0.8868\n",
      "Epoch 15/100\n",
      "55000/55000 [==============================] - 3s 63us/sample - loss: 0.2953 - accuracy: 0.8936 - val_loss: 0.3167 - val_accuracy: 0.8898\n",
      "Epoch 16/100\n",
      "55000/55000 [==============================] - 3s 61us/sample - loss: 0.2897 - accuracy: 0.8963 - val_loss: 0.3250 - val_accuracy: 0.8888\n",
      "Epoch 17/100\n",
      "55000/55000 [==============================] - 3s 63us/sample - loss: 0.2833 - accuracy: 0.8987 - val_loss: 0.3176 - val_accuracy: 0.8930\n",
      "Epoch 18/100\n",
      "55000/55000 [==============================] - 4s 64us/sample - loss: 0.2782 - accuracy: 0.8998 - val_loss: 0.3093 - val_accuracy: 0.8888\n",
      "Epoch 19/100\n",
      "55000/55000 [==============================] - 3s 63us/sample - loss: 0.2729 - accuracy: 0.9019 - val_loss: 0.3201 - val_accuracy: 0.8832\n",
      "Epoch 20/100\n",
      "55000/55000 [==============================] - 3s 61us/sample - loss: 0.2680 - accuracy: 0.9041 - val_loss: 0.3206 - val_accuracy: 0.8858\n",
      "Epoch 21/100\n",
      "55000/55000 [==============================] - 3s 61us/sample - loss: 0.2633 - accuracy: 0.9047 - val_loss: 0.3005 - val_accuracy: 0.8936\n",
      "Epoch 22/100\n",
      "55000/55000 [==============================] - 3s 60us/sample - loss: 0.2576 - accuracy: 0.9078 - val_loss: 0.3095 - val_accuracy: 0.8876\n",
      "Epoch 23/100\n",
      "55000/55000 [==============================] - 3s 61us/sample - loss: 0.2537 - accuracy: 0.9089 - val_loss: 0.2994 - val_accuracy: 0.8896\n",
      "Epoch 24/100\n",
      "55000/55000 [==============================] - 4s 64us/sample - loss: 0.2492 - accuracy: 0.9106 - val_loss: 0.3107 - val_accuracy: 0.8870\n",
      "Epoch 25/100\n",
      "55000/55000 [==============================] - 4s 69us/sample - loss: 0.2452 - accuracy: 0.9126 - val_loss: 0.3087 - val_accuracy: 0.8914\n",
      "Epoch 26/100\n",
      "55000/55000 [==============================] - 3s 59us/sample - loss: 0.2409 - accuracy: 0.9146 - val_loss: 0.3265 - val_accuracy: 0.8854\n",
      "Epoch 27/100\n",
      "55000/55000 [==============================] - 3s 60us/sample - loss: 0.2366 - accuracy: 0.9155 - val_loss: 0.3144 - val_accuracy: 0.8856\n",
      "Epoch 28/100\n",
      "55000/55000 [==============================] - 3s 58us/sample - loss: 0.2323 - accuracy: 0.9174 - val_loss: 0.2934 - val_accuracy: 0.8942\n",
      "Epoch 29/100\n",
      "55000/55000 [==============================] - 3s 61us/sample - loss: 0.2288 - accuracy: 0.9178 - val_loss: 0.2993 - val_accuracy: 0.8918\n",
      "Epoch 30/100\n",
      "55000/55000 [==============================] - 4s 65us/sample - loss: 0.2257 - accuracy: 0.9194 - val_loss: 0.3014 - val_accuracy: 0.8906\n",
      "Epoch 31/100\n",
      "55000/55000 [==============================] - 3s 61us/sample - loss: 0.2210 - accuracy: 0.9213 - val_loss: 0.2955 - val_accuracy: 0.8982\n",
      "Epoch 32/100\n",
      "55000/55000 [==============================] - 3s 59us/sample - loss: 0.2190 - accuracy: 0.9203 - val_loss: 0.2946 - val_accuracy: 0.8938\n",
      "Epoch 33/100\n",
      "55000/55000 [==============================] - 3s 59us/sample - loss: 0.2143 - accuracy: 0.9218 - val_loss: 0.2897 - val_accuracy: 0.8984\n",
      "Epoch 34/100\n",
      "55000/55000 [==============================] - 3s 59us/sample - loss: 0.2108 - accuracy: 0.9245 - val_loss: 0.2842 - val_accuracy: 0.8982\n",
      "Epoch 35/100\n",
      "55000/55000 [==============================] - 3s 58us/sample - loss: 0.2072 - accuracy: 0.9260 - val_loss: 0.2924 - val_accuracy: 0.8936\n",
      "Epoch 36/100\n",
      "55000/55000 [==============================] - 3s 59us/sample - loss: 0.2045 - accuracy: 0.9272 - val_loss: 0.3058 - val_accuracy: 0.8926\n",
      "Epoch 37/100\n",
      "55000/55000 [==============================] - 3s 59us/sample - loss: 0.2008 - accuracy: 0.9277 - val_loss: 0.2942 - val_accuracy: 0.8972\n",
      "Epoch 38/100\n",
      "55000/55000 [==============================] - 3s 59us/sample - loss: 0.1990 - accuracy: 0.9294 - val_loss: 0.2931 - val_accuracy: 0.8962\n",
      "Epoch 39/100\n",
      "55000/55000 [==============================] - 3s 59us/sample - loss: 0.1938 - accuracy: 0.9312 - val_loss: 0.3070 - val_accuracy: 0.8882\n",
      "Epoch 40/100\n",
      "55000/55000 [==============================] - 3s 61us/sample - loss: 0.1924 - accuracy: 0.9313 - val_loss: 0.2935 - val_accuracy: 0.8980\n",
      "Epoch 41/100\n",
      "55000/55000 [==============================] - 3s 61us/sample - loss: 0.1889 - accuracy: 0.9323 - val_loss: 0.3031 - val_accuracy: 0.8984\n",
      "Epoch 42/100\n",
      "55000/55000 [==============================] - 3s 55us/sample - loss: 0.1855 - accuracy: 0.9344 - val_loss: 0.2920 - val_accuracy: 0.8942\n",
      "Epoch 43/100\n",
      "55000/55000 [==============================] - 3s 55us/sample - loss: 0.1830 - accuracy: 0.9346 - val_loss: 0.2966 - val_accuracy: 0.8966\n",
      "Epoch 44/100\n",
      "55000/55000 [==============================] - 3s 58us/sample - loss: 0.1797 - accuracy: 0.9362 - val_loss: 0.2955 - val_accuracy: 0.8984\n",
      "Epoch 45/100\n",
      "55000/55000 [==============================] - 3s 58us/sample - loss: 0.1765 - accuracy: 0.9380 - val_loss: 0.3035 - val_accuracy: 0.8904\n",
      "Epoch 46/100\n",
      "55000/55000 [==============================] - 3s 54us/sample - loss: 0.1746 - accuracy: 0.9369 - val_loss: 0.2862 - val_accuracy: 0.8980\n",
      "Epoch 47/100\n",
      "55000/55000 [==============================] - 3s 54us/sample - loss: 0.1715 - accuracy: 0.9388 - val_loss: 0.3091 - val_accuracy: 0.8926\n",
      "Epoch 48/100\n",
      "55000/55000 [==============================] - 3s 54us/sample - loss: 0.1690 - accuracy: 0.9401 - val_loss: 0.2882 - val_accuracy: 0.8994\n",
      "Epoch 49/100\n",
      "55000/55000 [==============================] - 3s 54us/sample - loss: 0.1656 - accuracy: 0.9420 - val_loss: 0.2970 - val_accuracy: 0.9008\n",
      "Epoch 50/100\n",
      "55000/55000 [==============================] - 3s 54us/sample - loss: 0.1640 - accuracy: 0.9415 - val_loss: 0.2910 - val_accuracy: 0.9012\n",
      "Epoch 51/100\n",
      "55000/55000 [==============================] - 3s 54us/sample - loss: 0.1593 - accuracy: 0.9442 - val_loss: 0.2970 - val_accuracy: 0.8998\n",
      "Epoch 52/100\n",
      "55000/55000 [==============================] - 3s 54us/sample - loss: 0.1578 - accuracy: 0.9447 - val_loss: 0.3236 - val_accuracy: 0.8904\n",
      "Epoch 53/100\n",
      "55000/55000 [==============================] - 3s 55us/sample - loss: 0.1566 - accuracy: 0.9441 - val_loss: 0.3076 - val_accuracy: 0.8972\n",
      "Epoch 54/100\n",
      "55000/55000 [==============================] - 3s 54us/sample - loss: 0.1529 - accuracy: 0.9457 - val_loss: 0.2907 - val_accuracy: 0.9030\n"
     ]
    },
    {
     "name": "stdout",
     "output_type": "stream",
     "text": [
      "Epoch 55/100\n",
      "55000/55000 [==============================] - 3s 53us/sample - loss: 0.1508 - accuracy: 0.9472 - val_loss: 0.3108 - val_accuracy: 0.8952\n",
      "Epoch 56/100\n",
      "55000/55000 [==============================] - 3s 53us/sample - loss: 0.1489 - accuracy: 0.9472 - val_loss: 0.2921 - val_accuracy: 0.9036\n",
      "Epoch 57/100\n",
      "55000/55000 [==============================] - 3s 57us/sample - loss: 0.1455 - accuracy: 0.9481 - val_loss: 0.2934 - val_accuracy: 0.9032\n",
      "Epoch 58/100\n",
      "55000/55000 [==============================] - 3s 55us/sample - loss: 0.1431 - accuracy: 0.9495 - val_loss: 0.3006 - val_accuracy: 0.9008\n",
      "Epoch 59/100\n",
      "55000/55000 [==============================] - 3s 56us/sample - loss: 0.1415 - accuracy: 0.9497 - val_loss: 0.3002 - val_accuracy: 0.9004\n",
      "Epoch 60/100\n",
      "55000/55000 [==============================] - 3s 54us/sample - loss: 0.1387 - accuracy: 0.9511 - val_loss: 0.3122 - val_accuracy: 0.8954\n",
      "Epoch 61/100\n",
      "55000/55000 [==============================] - 3s 54us/sample - loss: 0.1361 - accuracy: 0.9518 - val_loss: 0.3043 - val_accuracy: 0.8984\n",
      "Epoch 62/100\n",
      "55000/55000 [==============================] - 3s 54us/sample - loss: 0.1343 - accuracy: 0.9529 - val_loss: 0.3057 - val_accuracy: 0.9002\n",
      "Epoch 63/100\n",
      "55000/55000 [==============================] - 3s 55us/sample - loss: 0.1309 - accuracy: 0.9545 - val_loss: 0.2976 - val_accuracy: 0.9024\n",
      "Epoch 64/100\n",
      "55000/55000 [==============================] - 3s 54us/sample - loss: 0.1307 - accuracy: 0.9542 - val_loss: 0.3473 - val_accuracy: 0.8858\n",
      "Epoch 65/100\n",
      "55000/55000 [==============================] - 3s 60us/sample - loss: 0.1270 - accuracy: 0.9550 - val_loss: 0.3044 - val_accuracy: 0.8996\n",
      "Epoch 66/100\n",
      "55000/55000 [==============================] - 3s 60us/sample - loss: 0.1268 - accuracy: 0.9559 - val_loss: 0.3195 - val_accuracy: 0.8970\n",
      "Epoch 67/100\n",
      "55000/55000 [==============================] - 3s 58us/sample - loss: 0.1241 - accuracy: 0.9559 - val_loss: 0.3042 - val_accuracy: 0.9026\n",
      "Epoch 68/100\n",
      "55000/55000 [==============================] - 3s 59us/sample - loss: 0.1221 - accuracy: 0.9579 - val_loss: 0.3353 - val_accuracy: 0.8896\n",
      "Epoch 69/100\n",
      "55000/55000 [==============================] - 3s 59us/sample - loss: 0.1200 - accuracy: 0.9584 - val_loss: 0.2999 - val_accuracy: 0.9008\n",
      "Epoch 70/100\n",
      "55000/55000 [==============================] - 3s 59us/sample - loss: 0.1170 - accuracy: 0.9595 - val_loss: 0.3064 - val_accuracy: 0.9018\n",
      "Epoch 71/100\n",
      "55000/55000 [==============================] - 3s 58us/sample - loss: 0.1160 - accuracy: 0.9593 - val_loss: 0.3141 - val_accuracy: 0.9000\n",
      "Epoch 72/100\n",
      "55000/55000 [==============================] - 3s 59us/sample - loss: 0.1152 - accuracy: 0.9589 - val_loss: 0.3161 - val_accuracy: 0.8966\n",
      "Epoch 73/100\n",
      "55000/55000 [==============================] - 3s 59us/sample - loss: 0.1126 - accuracy: 0.9614 - val_loss: 0.3433 - val_accuracy: 0.8886\n",
      "Epoch 74/100\n",
      "55000/55000 [==============================] - 3s 60us/sample - loss: 0.1109 - accuracy: 0.9617 - val_loss: 0.3322 - val_accuracy: 0.8954\n",
      "Epoch 75/100\n",
      "55000/55000 [==============================] - 3s 61us/sample - loss: 0.1094 - accuracy: 0.9617 - val_loss: 0.3236 - val_accuracy: 0.8954\n",
      "Epoch 76/100\n",
      "55000/55000 [==============================] - 3s 56us/sample - loss: 0.1073 - accuracy: 0.9635 - val_loss: 0.3309 - val_accuracy: 0.8930\n",
      "Epoch 77/100\n",
      "55000/55000 [==============================] - 3s 55us/sample - loss: 0.1051 - accuracy: 0.9633 - val_loss: 0.3416 - val_accuracy: 0.8944\n",
      "Epoch 78/100\n",
      "55000/55000 [==============================] - 3s 55us/sample - loss: 0.1039 - accuracy: 0.9640 - val_loss: 0.3193 - val_accuracy: 0.9030\n",
      "Epoch 79/100\n",
      "55000/55000 [==============================] - 3s 55us/sample - loss: 0.1011 - accuracy: 0.9652 - val_loss: 0.3488 - val_accuracy: 0.8976\n",
      "Epoch 80/100\n",
      "55000/55000 [==============================] - 3s 54us/sample - loss: 0.1006 - accuracy: 0.9656 - val_loss: 0.3337 - val_accuracy: 0.8938\n",
      "Epoch 81/100\n",
      "55000/55000 [==============================] - 3s 54us/sample - loss: 0.0983 - accuracy: 0.9670 - val_loss: 0.3473 - val_accuracy: 0.8918\n",
      "Epoch 82/100\n",
      "55000/55000 [==============================] - 3s 54us/sample - loss: 0.0971 - accuracy: 0.9669 - val_loss: 0.3264 - val_accuracy: 0.8974\n",
      "Epoch 83/100\n",
      "55000/55000 [==============================] - 3s 56us/sample - loss: 0.0952 - accuracy: 0.9669 - val_loss: 0.3455 - val_accuracy: 0.8940\n",
      "Epoch 84/100\n",
      "55000/55000 [==============================] - 3s 55us/sample - loss: 0.0928 - accuracy: 0.9687 - val_loss: 0.3598 - val_accuracy: 0.8908\n",
      "Epoch 85/100\n",
      "55000/55000 [==============================] - 3s 54us/sample - loss: 0.0932 - accuracy: 0.9677 - val_loss: 0.3412 - val_accuracy: 0.8970\n",
      "Epoch 86/100\n",
      "55000/55000 [==============================] - 3s 54us/sample - loss: 0.0916 - accuracy: 0.9683 - val_loss: 0.3407 - val_accuracy: 0.9008\n",
      "Epoch 87/100\n",
      "55000/55000 [==============================] - 3s 54us/sample - loss: 0.0898 - accuracy: 0.9695 - val_loss: 0.3539 - val_accuracy: 0.8970\n",
      "Epoch 88/100\n",
      "55000/55000 [==============================] - 3s 54us/sample - loss: 0.0877 - accuracy: 0.9699 - val_loss: 0.3465 - val_accuracy: 0.8950\n",
      "Epoch 89/100\n",
      "55000/55000 [==============================] - 3s 59us/sample - loss: 0.0858 - accuracy: 0.9703 - val_loss: 0.3613 - val_accuracy: 0.8984\n",
      "Epoch 90/100\n",
      "55000/55000 [==============================] - 3s 56us/sample - loss: 0.0840 - accuracy: 0.9706 - val_loss: 0.3681 - val_accuracy: 0.8976\n",
      "Epoch 91/100\n",
      "55000/55000 [==============================] - 3s 56us/sample - loss: 0.0835 - accuracy: 0.9716 - val_loss: 0.3471 - val_accuracy: 0.8992\n",
      "Epoch 92/100\n",
      "55000/55000 [==============================] - 3s 56us/sample - loss: 0.0811 - accuracy: 0.9729 - val_loss: 0.3433 - val_accuracy: 0.9010\n",
      "Epoch 93/100\n",
      "55000/55000 [==============================] - 3s 56us/sample - loss: 0.0811 - accuracy: 0.9725 - val_loss: 0.3558 - val_accuracy: 0.8986\n",
      "Epoch 94/100\n",
      "55000/55000 [==============================] - 3s 56us/sample - loss: 0.0796 - accuracy: 0.9731 - val_loss: 0.3549 - val_accuracy: 0.8942\n",
      "Epoch 95/100\n",
      "55000/55000 [==============================] - 3s 56us/sample - loss: 0.0778 - accuracy: 0.9740 - val_loss: 0.3492 - val_accuracy: 0.9020\n",
      "Epoch 96/100\n",
      "55000/55000 [==============================] - 3s 56us/sample - loss: 0.0747 - accuracy: 0.9749 - val_loss: 0.3571 - val_accuracy: 0.9006\n",
      "Epoch 97/100\n",
      "55000/55000 [==============================] - 3s 56us/sample - loss: 0.0757 - accuracy: 0.9741 - val_loss: 0.3558 - val_accuracy: 0.8974\n",
      "Epoch 98/100\n",
      "55000/55000 [==============================] - 3s 56us/sample - loss: 0.0736 - accuracy: 0.9749 - val_loss: 0.3854 - val_accuracy: 0.8920\n",
      "Epoch 99/100\n",
      "55000/55000 [==============================] - 3s 55us/sample - loss: 0.0722 - accuracy: 0.9757 - val_loss: 0.4034 - val_accuracy: 0.8946\n",
      "Epoch 100/100\n",
      "55000/55000 [==============================] - 3s 56us/sample - loss: 0.0724 - accuracy: 0.9753 - val_loss: 0.3751 - val_accuracy: 0.8964\n"
     ]
    }
   ],
   "source": [
    "model_history=model.fit(x_tr,y_tr,epochs=100,validation_data=(x_valid,y_valid))"
   ]
  },
  {
   "cell_type": "code",
   "execution_count": 14,
   "metadata": {},
   "outputs": [
    {
     "data": {
      "text/plain": [
       "{'batch_size': 32,\n",
       " 'epochs': 100,\n",
       " 'steps': 1719,\n",
       " 'samples': 55000,\n",
       " 'verbose': 0,\n",
       " 'do_validation': True,\n",
       " 'metrics': ['loss', 'accuracy', 'val_loss', 'val_accuracy']}"
      ]
     },
     "execution_count": 14,
     "metadata": {},
     "output_type": "execute_result"
    }
   ],
   "source": [
    "model_history.params"
   ]
  },
  {
   "cell_type": "code",
   "execution_count": 15,
   "metadata": {},
   "outputs": [
    {
     "data": {
      "text/plain": [
       "{'loss': [0.7225696446418762,\n",
       "  0.4843711777600375,\n",
       "  0.44135256237983705,\n",
       "  0.4128733672943982,\n",
       "  0.39265277126485654,\n",
       "  0.3770191245209087,\n",
       "  0.3627588985746557,\n",
       "  0.35195925061485983,\n",
       "  0.3422143617933447,\n",
       "  0.33271733288764954,\n",
       "  0.324243748218363,\n",
       "  0.31610319833755496,\n",
       "  0.3074274098114534,\n",
       "  0.3017842610944401,\n",
       "  0.2953040536728772,\n",
       "  0.28974602770588614,\n",
       "  0.28329670048410244,\n",
       "  0.2782231433131478,\n",
       "  0.2729250731468201,\n",
       "  0.2679585050886328,\n",
       "  0.2633107886888764,\n",
       "  0.2575965548168529,\n",
       "  0.2537093149206855,\n",
       "  0.24915217022028838,\n",
       "  0.24523287764896046,\n",
       "  0.24087076759988613,\n",
       "  0.23663819693435323,\n",
       "  0.23229968420700595,\n",
       "  0.22882031361623245,\n",
       "  0.2257122937690128,\n",
       "  0.22099463527202606,\n",
       "  0.21898177103562788,\n",
       "  0.2142890724756501,\n",
       "  0.21078057746887208,\n",
       "  0.2071868726481091,\n",
       "  0.2045377726630731,\n",
       "  0.20079984393770045,\n",
       "  0.19902823882536455,\n",
       "  0.19382332257032395,\n",
       "  0.19242044431242075,\n",
       "  0.18887784096436067,\n",
       "  0.18554060651497406,\n",
       "  0.1829922158501365,\n",
       "  0.1797254348147999,\n",
       "  0.17649302316578952,\n",
       "  0.1745989556366747,\n",
       "  0.17152432919849048,\n",
       "  0.1689619300365448,\n",
       "  0.16556892653757876,\n",
       "  0.16402189246741208,\n",
       "  0.1593430644013665,\n",
       "  0.15776520167372443,\n",
       "  0.15656083169146018,\n",
       "  0.1529163618369536,\n",
       "  0.1508330566417087,\n",
       "  0.1489492075903849,\n",
       "  0.14549870074066248,\n",
       "  0.14308940322344954,\n",
       "  0.1415371230499311,\n",
       "  0.1386900312808427,\n",
       "  0.13613491456291893,\n",
       "  0.13426774020086635,\n",
       "  0.1308581381532279,\n",
       "  0.13066679145314478,\n",
       "  0.12701282061338426,\n",
       "  0.12676175686662847,\n",
       "  0.12412762162739581,\n",
       "  0.12208741356513717,\n",
       "  0.11995274475596168,\n",
       "  0.11700454196767374,\n",
       "  0.11597789083204486,\n",
       "  0.1152282727859237,\n",
       "  0.11262867091812871,\n",
       "  0.1108514730675654,\n",
       "  0.10938676432804628,\n",
       "  0.1073057573583993,\n",
       "  0.10512031197656285,\n",
       "  0.10391970479529013,\n",
       "  0.1011420562218536,\n",
       "  0.10063557827418501,\n",
       "  0.09825359646596692,\n",
       "  0.09709588091671467,\n",
       "  0.09517163653048602,\n",
       "  0.09279979890774596,\n",
       "  0.0931867327761921,\n",
       "  0.09161060557880185,\n",
       "  0.08981387854218482,\n",
       "  0.08771568700230935,\n",
       "  0.08581470718248324,\n",
       "  0.0839716520558704,\n",
       "  0.0835058822396804,\n",
       "  0.08109062461595644,\n",
       "  0.0810973813760687,\n",
       "  0.0795992108782584,\n",
       "  0.07781795265484939,\n",
       "  0.07474956239001318,\n",
       "  0.0756755973062732,\n",
       "  0.07364429899386385,\n",
       "  0.07224536725838077,\n",
       "  0.07237992071021687],\n",
       " 'accuracy': [0.7641091,\n",
       "  0.8321273,\n",
       "  0.84645456,\n",
       "  0.8547091,\n",
       "  0.8616545,\n",
       "  0.8665636,\n",
       "  0.87276363,\n",
       "  0.8745273,\n",
       "  0.87723637,\n",
       "  0.88127273,\n",
       "  0.88372725,\n",
       "  0.8868545,\n",
       "  0.8902909,\n",
       "  0.8923636,\n",
       "  0.89363635,\n",
       "  0.89625454,\n",
       "  0.8987455,\n",
       "  0.8998182,\n",
       "  0.9019091,\n",
       "  0.9041091,\n",
       "  0.9047091,\n",
       "  0.90776366,\n",
       "  0.90894544,\n",
       "  0.9106,\n",
       "  0.9126,\n",
       "  0.9146182,\n",
       "  0.91545457,\n",
       "  0.91736364,\n",
       "  0.91783637,\n",
       "  0.9193636,\n",
       "  0.9213273,\n",
       "  0.9202727,\n",
       "  0.9218,\n",
       "  0.9245091,\n",
       "  0.92596364,\n",
       "  0.9272,\n",
       "  0.92767274,\n",
       "  0.9294182,\n",
       "  0.9311636,\n",
       "  0.9312909,\n",
       "  0.9323273,\n",
       "  0.9344182,\n",
       "  0.9346182,\n",
       "  0.9362364,\n",
       "  0.93798184,\n",
       "  0.93694544,\n",
       "  0.9388,\n",
       "  0.94014543,\n",
       "  0.9419818,\n",
       "  0.9415454,\n",
       "  0.94421816,\n",
       "  0.9446727,\n",
       "  0.94405454,\n",
       "  0.94574547,\n",
       "  0.94716364,\n",
       "  0.9472182,\n",
       "  0.94807273,\n",
       "  0.9495091,\n",
       "  0.94969094,\n",
       "  0.9511273,\n",
       "  0.95181817,\n",
       "  0.9529273,\n",
       "  0.9544727,\n",
       "  0.9542364,\n",
       "  0.95501816,\n",
       "  0.9559091,\n",
       "  0.95592725,\n",
       "  0.95787275,\n",
       "  0.95843637,\n",
       "  0.9594909,\n",
       "  0.9592909,\n",
       "  0.95885456,\n",
       "  0.9614364,\n",
       "  0.96172726,\n",
       "  0.96174544,\n",
       "  0.9635091,\n",
       "  0.96334547,\n",
       "  0.96401817,\n",
       "  0.9652,\n",
       "  0.9656364,\n",
       "  0.96703637,\n",
       "  0.9669091,\n",
       "  0.96687275,\n",
       "  0.9687273,\n",
       "  0.9676909,\n",
       "  0.96827275,\n",
       "  0.96950907,\n",
       "  0.96992725,\n",
       "  0.97034544,\n",
       "  0.97056365,\n",
       "  0.9715818,\n",
       "  0.9729273,\n",
       "  0.97252727,\n",
       "  0.9731454,\n",
       "  0.9739636,\n",
       "  0.9748545,\n",
       "  0.97409093,\n",
       "  0.9748727,\n",
       "  0.97565454,\n",
       "  0.97532725],\n",
       " 'val_loss': [0.5073241611480713,\n",
       "  0.454040706038475,\n",
       "  0.43784468150138856,\n",
       "  0.41577931909561155,\n",
       "  0.38104598572254184,\n",
       "  0.3728678255081177,\n",
       "  0.3699129081964493,\n",
       "  0.3660964954972267,\n",
       "  0.3437775068044662,\n",
       "  0.3510745954871178,\n",
       "  0.33650997614860534,\n",
       "  0.33136016371250154,\n",
       "  0.3316146197319031,\n",
       "  0.32402970910072326,\n",
       "  0.3166638780593872,\n",
       "  0.3250427449464798,\n",
       "  0.31763561466932294,\n",
       "  0.30929093899726867,\n",
       "  0.3201284202218056,\n",
       "  0.3205778339385986,\n",
       "  0.30054291895627977,\n",
       "  0.30945115818977353,\n",
       "  0.2993926905065775,\n",
       "  0.31071546220779417,\n",
       "  0.3086567457228899,\n",
       "  0.32651804180145266,\n",
       "  0.3144462195158005,\n",
       "  0.29343455191254614,\n",
       "  0.299306572830677,\n",
       "  0.301375843501091,\n",
       "  0.2954960453093052,\n",
       "  0.2946474651157856,\n",
       "  0.2897220252633095,\n",
       "  0.2842467426240444,\n",
       "  0.2923569165945053,\n",
       "  0.30578837308883666,\n",
       "  0.2941581457823515,\n",
       "  0.2930740887403488,\n",
       "  0.3070408094584942,\n",
       "  0.29349612948298454,\n",
       "  0.3030931915998459,\n",
       "  0.2919924168020487,\n",
       "  0.2966418786108494,\n",
       "  0.2954587904810905,\n",
       "  0.30348813566863536,\n",
       "  0.2862471997886896,\n",
       "  0.30908613429665566,\n",
       "  0.2881555291324854,\n",
       "  0.29702848564982415,\n",
       "  0.29100670143961904,\n",
       "  0.29702690768241885,\n",
       "  0.3236378214716911,\n",
       "  0.30758420989513396,\n",
       "  0.2906678920090199,\n",
       "  0.31084274299144743,\n",
       "  0.2920861496567726,\n",
       "  0.2934472136169672,\n",
       "  0.30055814342498777,\n",
       "  0.30020673347711563,\n",
       "  0.3121954278498888,\n",
       "  0.30433728120028974,\n",
       "  0.30565938460826875,\n",
       "  0.2975905859917402,\n",
       "  0.34730783735215665,\n",
       "  0.3043858649671078,\n",
       "  0.3194904438614845,\n",
       "  0.3042247581601143,\n",
       "  0.33531400667130945,\n",
       "  0.29990005860924723,\n",
       "  0.3064006626725197,\n",
       "  0.31411475318670273,\n",
       "  0.31613530693650244,\n",
       "  0.3432547811329365,\n",
       "  0.3321711760908365,\n",
       "  0.32356511625647544,\n",
       "  0.3308914818376303,\n",
       "  0.34158041365146635,\n",
       "  0.31926965072155,\n",
       "  0.348803214430809,\n",
       "  0.3337093017801642,\n",
       "  0.3473121869534254,\n",
       "  0.32644844708144666,\n",
       "  0.3455369405567646,\n",
       "  0.3597578187793493,\n",
       "  0.3412126461327076,\n",
       "  0.34073521708846094,\n",
       "  0.35387162378430365,\n",
       "  0.34653243259191513,\n",
       "  0.3612978395104408,\n",
       "  0.3681341701090336,\n",
       "  0.3470899869263172,\n",
       "  0.343261985707283,\n",
       "  0.35578251057863236,\n",
       "  0.3548518437385559,\n",
       "  0.34916824710965155,\n",
       "  0.35710537343025206,\n",
       "  0.3558399028003216,\n",
       "  0.38541336556971073,\n",
       "  0.40344137568473815,\n",
       "  0.37505575084686277],\n",
       " 'val_accuracy': [0.832,\n",
       "  0.8488,\n",
       "  0.8498,\n",
       "  0.8558,\n",
       "  0.8646,\n",
       "  0.8686,\n",
       "  0.87,\n",
       "  0.8694,\n",
       "  0.8782,\n",
       "  0.8784,\n",
       "  0.8812,\n",
       "  0.8838,\n",
       "  0.8838,\n",
       "  0.8868,\n",
       "  0.8898,\n",
       "  0.8888,\n",
       "  0.893,\n",
       "  0.8888,\n",
       "  0.8832,\n",
       "  0.8858,\n",
       "  0.8936,\n",
       "  0.8876,\n",
       "  0.8896,\n",
       "  0.887,\n",
       "  0.8914,\n",
       "  0.8854,\n",
       "  0.8856,\n",
       "  0.8942,\n",
       "  0.8918,\n",
       "  0.8906,\n",
       "  0.8982,\n",
       "  0.8938,\n",
       "  0.8984,\n",
       "  0.8982,\n",
       "  0.8936,\n",
       "  0.8926,\n",
       "  0.8972,\n",
       "  0.8962,\n",
       "  0.8882,\n",
       "  0.898,\n",
       "  0.8984,\n",
       "  0.8942,\n",
       "  0.8966,\n",
       "  0.8984,\n",
       "  0.8904,\n",
       "  0.898,\n",
       "  0.8926,\n",
       "  0.8994,\n",
       "  0.9008,\n",
       "  0.9012,\n",
       "  0.8998,\n",
       "  0.8904,\n",
       "  0.8972,\n",
       "  0.903,\n",
       "  0.8952,\n",
       "  0.9036,\n",
       "  0.9032,\n",
       "  0.9008,\n",
       "  0.9004,\n",
       "  0.8954,\n",
       "  0.8984,\n",
       "  0.9002,\n",
       "  0.9024,\n",
       "  0.8858,\n",
       "  0.8996,\n",
       "  0.897,\n",
       "  0.9026,\n",
       "  0.8896,\n",
       "  0.9008,\n",
       "  0.9018,\n",
       "  0.9,\n",
       "  0.8966,\n",
       "  0.8886,\n",
       "  0.8954,\n",
       "  0.8954,\n",
       "  0.893,\n",
       "  0.8944,\n",
       "  0.903,\n",
       "  0.8976,\n",
       "  0.8938,\n",
       "  0.8918,\n",
       "  0.8974,\n",
       "  0.894,\n",
       "  0.8908,\n",
       "  0.897,\n",
       "  0.9008,\n",
       "  0.897,\n",
       "  0.895,\n",
       "  0.8984,\n",
       "  0.8976,\n",
       "  0.8992,\n",
       "  0.901,\n",
       "  0.8986,\n",
       "  0.8942,\n",
       "  0.902,\n",
       "  0.9006,\n",
       "  0.8974,\n",
       "  0.892,\n",
       "  0.8946,\n",
       "  0.8964]}"
      ]
     },
     "execution_count": 15,
     "metadata": {},
     "output_type": "execute_result"
    }
   ],
   "source": [
    "model_history.history\n"
   ]
  },
  {
   "cell_type": "code",
   "execution_count": 19,
   "metadata": {},
   "outputs": [
    {
     "data": {
      "image/png": "[encoded data removed]",
      "text/plain": [
       "<Figure size 576x360 with 1 Axes>"
      ]
     },
     "metadata": {
      "needs_background": "light"
     },
     "output_type": "display_data"
    }
   ],
   "source": [
    "import pandas as pd\n",
    "pd.DataFrame(model_history.history).plot(figsize=(8,5))\n",
    "plt.grid(True)\n",
    "plt.show()"
   ]
  },
  {
   "cell_type": "code",
   "execution_count": 20,
   "metadata": {},
   "outputs": [
    {
     "name": "stdout",
     "output_type": "stream",
     "text": [
      "Train on 55000 samples, validate on 5000 samples\n",
      "Epoch 1/30\n",
      "55000/55000 [==============================] - 3s 55us/sample - loss: 0.0688 - accuracy: 0.9767 - val_loss: 0.3953 - val_accuracy: 0.8948\n",
      "Epoch 2/30\n",
      "55000/55000 [==============================] - 3s 54us/sample - loss: 0.0699 - accuracy: 0.9763 - val_loss: 0.3584 - val_accuracy: 0.9020\n",
      "Epoch 3/30\n",
      "55000/55000 [==============================] - 3s 54us/sample - loss: 0.0686 - accuracy: 0.9769 - val_loss: 0.3773 - val_accuracy: 0.8948\n",
      "Epoch 4/30\n",
      "55000/55000 [==============================] - 3s 54us/sample - loss: 0.0662 - accuracy: 0.9777 - val_loss: 0.3871 - val_accuracy: 0.8980\n",
      "Epoch 5/30\n",
      "55000/55000 [==============================] - 3s 54us/sample - loss: 0.0683 - accuracy: 0.9773 - val_loss: 0.3804 - val_accuracy: 0.8964\n",
      "Epoch 6/30\n",
      "55000/55000 [==============================] - 3s 54us/sample - loss: 0.0640 - accuracy: 0.9788 - val_loss: 0.4182 - val_accuracy: 0.8952\n",
      "Epoch 7/30\n",
      "55000/55000 [==============================] - 3s 54us/sample - loss: 0.0649 - accuracy: 0.9779 - val_loss: 0.4096 - val_accuracy: 0.8932\n",
      "Epoch 8/30\n",
      "55000/55000 [==============================] - 3s 54us/sample - loss: 0.0632 - accuracy: 0.9786 - val_loss: 0.3701 - val_accuracy: 0.9002\n",
      "Epoch 9/30\n",
      "55000/55000 [==============================] - 3s 59us/sample - loss: 0.0613 - accuracy: 0.9796 - val_loss: 0.3760 - val_accuracy: 0.8994\n",
      "Epoch 10/30\n",
      "55000/55000 [==============================] - 3s 55us/sample - loss: 0.0593 - accuracy: 0.9807 - val_loss: 0.3766 - val_accuracy: 0.8996\n",
      "Epoch 11/30\n",
      "55000/55000 [==============================] - 3s 55us/sample - loss: 0.0606 - accuracy: 0.9797 - val_loss: 0.3987 - val_accuracy: 0.8984\n",
      "Epoch 12/30\n",
      "55000/55000 [==============================] - 3s 55us/sample - loss: 0.0571 - accuracy: 0.9813 - val_loss: 0.3875 - val_accuracy: 0.8986\n",
      "Epoch 13/30\n",
      "55000/55000 [==============================] - 3s 55us/sample - loss: 0.0562 - accuracy: 0.9820 - val_loss: 0.4030 - val_accuracy: 0.9036\n",
      "Epoch 14/30\n",
      "55000/55000 [==============================] - 3s 55us/sample - loss: 0.0563 - accuracy: 0.9813 - val_loss: 0.4119 - val_accuracy: 0.8930\n",
      "Epoch 15/30\n",
      "55000/55000 [==============================] - 3s 55us/sample - loss: 0.0562 - accuracy: 0.9815 - val_loss: 0.3853 - val_accuracy: 0.9010\n",
      "Epoch 16/30\n",
      "55000/55000 [==============================] - 3s 55us/sample - loss: 0.0525 - accuracy: 0.9831 - val_loss: 0.4058 - val_accuracy: 0.8998\n",
      "Epoch 17/30\n",
      "55000/55000 [==============================] - 3s 55us/sample - loss: 0.0533 - accuracy: 0.9826 - val_loss: 0.3823 - val_accuracy: 0.8994\n",
      "Epoch 18/30\n",
      "55000/55000 [==============================] - 3s 55us/sample - loss: 0.0505 - accuracy: 0.9836 - val_loss: 0.3941 - val_accuracy: 0.9020\n",
      "Epoch 19/30\n",
      "55000/55000 [==============================] - 3s 55us/sample - loss: 0.0505 - accuracy: 0.9837 - val_loss: 0.4015 - val_accuracy: 0.8934\n",
      "Epoch 20/30\n",
      "55000/55000 [==============================] - 3s 55us/sample - loss: 0.0500 - accuracy: 0.9838 - val_loss: 0.4177 - val_accuracy: 0.8940\n",
      "Epoch 21/30\n",
      "55000/55000 [==============================] - 3s 55us/sample - loss: 0.0501 - accuracy: 0.9837 - val_loss: 0.3967 - val_accuracy: 0.8988\n",
      "Epoch 22/30\n",
      "55000/55000 [==============================] - 3s 55us/sample - loss: 0.0476 - accuracy: 0.9849 - val_loss: 0.4091 - val_accuracy: 0.9024\n",
      "Epoch 23/30\n",
      "55000/55000 [==============================] - 3s 56us/sample - loss: 0.0471 - accuracy: 0.9854 - val_loss: 0.4183 - val_accuracy: 0.8966\n",
      "Epoch 24/30\n",
      "55000/55000 [==============================] - 3s 55us/sample - loss: 0.0470 - accuracy: 0.9842 - val_loss: 0.4738 - val_accuracy: 0.8838\n",
      "Epoch 25/30\n",
      "55000/55000 [==============================] - 3s 55us/sample - loss: 0.0461 - accuracy: 0.9852 - val_loss: 0.4317 - val_accuracy: 0.8930\n",
      "Epoch 26/30\n",
      "55000/55000 [==============================] - 3s 58us/sample - loss: 0.0453 - accuracy: 0.9852 - val_loss: 0.4352 - val_accuracy: 0.8998\n",
      "Epoch 27/30\n",
      "55000/55000 [==============================] - 3s 55us/sample - loss: 0.0448 - accuracy: 0.9854 - val_loss: 0.4584 - val_accuracy: 0.8978\n",
      "Epoch 28/30\n",
      "55000/55000 [==============================] - 3s 56us/sample - loss: 0.0427 - accuracy: 0.9866 - val_loss: 0.4222 - val_accuracy: 0.9036\n",
      "Epoch 29/30\n",
      "55000/55000 [==============================] - 3s 58us/sample - loss: 0.0418 - accuracy: 0.9872 - val_loss: 0.4171 - val_accuracy: 0.9012\n",
      "Epoch 30/30\n",
      "55000/55000 [==============================] - 3s 55us/sample - loss: 0.0411 - accuracy: 0.9870 - val_loss: 0.4734 - val_accuracy: 0.8868\n"
     ]
    }
   ],
   "source": [
    "model_history=model.fit(x_tr,y_tr,epochs=30,validation_data=(x_valid,y_valid))"
   ]
  },
  {
   "cell_type": "code",
   "execution_count": 21,
   "metadata": {},
   "outputs": [
    {
     "data": {
      "image/png": "[encoded data removed]",
      "text/plain": [
       "<Figure size 576x360 with 1 Axes>"
      ]
     },
     "metadata": {
      "needs_background": "light"
     },
     "output_type": "display_data"
    }
   ],
   "source": [
    "pd.DataFrame(model_history.history).plot(figsize=(8,5))\n",
    "plt.grid(True)\n",
    "plt.show()"
   ]
  },
  {
   "cell_type": "code",
   "execution_count": 25,
   "metadata": {},
   "outputs": [
    {
     "name": "stdout",
     "output_type": "stream",
     "text": [
      "10000/10000 [==============================] - 0s 35us/sample - loss: 0.5231 - accuracy: 0.8783\n"
     ]
    },
    {
     "data": {
      "text/plain": [
       "[0.5231417863011361, 0.8783]"
      ]
     },
     "execution_count": 25,
     "metadata": {},
     "output_type": "execute_result"
    }
   ],
   "source": [
    "model.evaluate(x_test_n,y_test)"
   ]
  },
  {
   "cell_type": "code",
   "execution_count": 43,
   "metadata": {},
   "outputs": [
    {
     "name": "stdout",
     "output_type": "stream",
     "text": [
      "Predicted: Ankle-Boot\n",
      "Actual: Ankle-Boot\n"
     ]
    },
    {
     "data": {
      "image/png": "[encoded data removed]",
      "text/plain": [
       "<Figure size 432x288 with 1 Axes>"
      ]
     },
     "metadata": {
      "needs_background": "light"
     },
     "output_type": "display_data"
    },
    {
     "name": "stdout",
     "output_type": "stream",
     "text": [
      "Predicted: Pullover\n",
      "Actual: Pullover\n"
     ]
    },
    {
     "data": {
      "image/png": "[encoded data removed]",
      "text/plain": [
       "<Figure size 432x288 with 1 Axes>"
      ]
     },
     "metadata": {
      "needs_background": "light"
     },
     "output_type": "display_data"
    },
    {
     "name": "stdout",
     "output_type": "stream",
     "text": [
      "Predicted: Trouser\n",
      "Actual: Trouser\n"
     ]
    },
    {
     "data": {
      "image/png": "[encoded data removed]",
      "text/plain": [
       "<Figure size 432x288 with 1 Axes>"
      ]
     },
     "metadata": {
      "needs_background": "light"
     },
     "output_type": "display_data"
    },
    {
     "name": "stdout",
     "output_type": "stream",
     "text": [
      "Predicted: Trouser\n",
      "Actual: Trouser\n"
     ]
    },
    {
     "data": {
      "image/png": "[encoded data removed]",
      "text/plain": [
       "<Figure size 432x288 with 1 Axes>"
      ]
     },
     "metadata": {
      "needs_background": "light"
     },
     "output_type": "display_data"
    },
    {
     "name": "stdout",
     "output_type": "stream",
     "text": [
      "Predicted: T-shirt/Top\n",
      "Actual: Shirt\n"
     ]
    },
    {
     "data": {
      "image/png": "[encoded data removed]",
      "text/plain": [
       "<Figure size 432x288 with 1 Axes>"
      ]
     },
     "metadata": {
      "needs_background": "light"
     },
     "output_type": "display_data"
    },
    {
     "name": "stdout",
     "output_type": "stream",
     "text": [
      "Predicted: Trouser\n",
      "Actual: Trouser\n"
     ]
    },
    {
     "data": {
      "image/png": "[encoded data removed]",
      "text/plain": [
       "<Figure size 432x288 with 1 Axes>"
      ]
     },
     "metadata": {
      "needs_background": "light"
     },
     "output_type": "display_data"
    },
    {
     "name": "stdout",
     "output_type": "stream",
     "text": [
      "Predicted: Coat\n",
      "Actual: Coat\n"
     ]
    },
    {
     "data": {
      "image/png": "[encoded data removed]",
      "text/plain": [
       "<Figure size 432x288 with 1 Axes>"
      ]
     },
     "metadata": {
      "needs_background": "light"
     },
     "output_type": "display_data"
    },
    {
     "name": "stdout",
     "output_type": "stream",
     "text": [
      "Predicted: Coat\n",
      "Actual: Shirt\n"
     ]
    },
    {
     "data": {
      "image/png": "[encoded data removed]",
      "text/plain": [
       "<Figure size 432x288 with 1 Axes>"
      ]
     },
     "metadata": {
      "needs_background": "light"
     },
     "output_type": "display_data"
    },
    {
     "name": "stdout",
     "output_type": "stream",
     "text": [
      "Predicted: Sandal\n",
      "Actual: Sandal\n"
     ]
    },
    {
     "data": {
      "image/png": "[encoded data removed]",
      "text/plain": [
       "<Figure size 432x288 with 1 Axes>"
      ]
     },
     "metadata": {
      "needs_background": "light"
     },
     "output_type": "display_data"
    },
    {
     "name": "stdout",
     "output_type": "stream",
     "text": [
      "Predicted: Sneaker\n",
      "Actual: Sneaker\n"
     ]
    },
    {
     "data": {
      "image/png": "[encoded data removed]",
      "text/plain": [
       "<Figure size 432x288 with 1 Axes>"
      ]
     },
     "metadata": {
      "needs_background": "light"
     },
     "output_type": "display_data"
    },
    {
     "name": "stdout",
     "output_type": "stream",
     "text": [
      "Predicted: Coat\n",
      "Actual: Coat\n"
     ]
    },
    {
     "data": {
      "image/png": "[encoded data removed]",
      "text/plain": [
       "<Figure size 432x288 with 1 Axes>"
      ]
     },
     "metadata": {
      "needs_background": "light"
     },
     "output_type": "display_data"
    },
    {
     "name": "stdout",
     "output_type": "stream",
     "text": [
      "Predicted: Sandal\n",
      "Actual: Sandal\n"
     ]
    },
    {
     "data": {
      "image/png": "[encoded data removed]",
      "text/plain": [
       "<Figure size 432x288 with 1 Axes>"
      ]
     },
     "metadata": {
      "needs_background": "light"
     },
     "output_type": "display_data"
    },
    {
     "name": "stdout",
     "output_type": "stream",
     "text": [
      "Predicted: Sandal\n",
      "Actual: Sneaker\n"
     ]
    },
    {
     "data": {
      "image/png": "[encoded data removed]",
      "text/plain": [
       "<Figure size 432x288 with 1 Axes>"
      ]
     },
     "metadata": {
      "needs_background": "light"
     },
     "output_type": "display_data"
    },
    {
     "name": "stdout",
     "output_type": "stream",
     "text": [
      "Predicted: Dress\n",
      "Actual: Dress\n"
     ]
    },
    {
     "data": {
      "image/png": "[encoded data removed]",
      "text/plain": [
       "<Figure size 432x288 with 1 Axes>"
      ]
     },
     "metadata": {
      "needs_background": "light"
     },
     "output_type": "display_data"
    },
    {
     "name": "stdout",
     "output_type": "stream",
     "text": [
      "Predicted: Coat\n",
      "Actual: Coat\n"
     ]
    },
    {
     "data": {
      "image/png": "[encoded data removed]",
      "text/plain": [
       "<Figure size 432x288 with 1 Axes>"
      ]
     },
     "metadata": {
      "needs_background": "light"
     },
     "output_type": "display_data"
    },
    {
     "name": "stdout",
     "output_type": "stream",
     "text": [
      "Predicted: Trouser\n",
      "Actual: Trouser\n"
     ]
    },
    {
     "data": {
      "image/png": "[encoded data removed]",
      "text/plain": [
       "<Figure size 432x288 with 1 Axes>"
      ]
     },
     "metadata": {
      "needs_background": "light"
     },
     "output_type": "display_data"
    },
    {
     "name": "stdout",
     "output_type": "stream",
     "text": [
      "Predicted: Pullover\n",
      "Actual: Pullover\n"
     ]
    },
    {
     "data": {
      "image/png": "[encoded data removed]",
      "text/plain": [
       "<Figure size 432x288 with 1 Axes>"
      ]
     },
     "metadata": {
      "needs_background": "light"
     },
     "output_type": "display_data"
    },
    {
     "name": "stdout",
     "output_type": "stream",
     "text": [
      "Predicted: Pullover\n",
      "Actual: Coat\n"
     ]
    },
    {
     "data": {
      "image/png": "[encoded data removed]",
      "text/plain": [
       "<Figure size 432x288 with 1 Axes>"
      ]
     },
     "metadata": {
      "needs_background": "light"
     },
     "output_type": "display_data"
    },
    {
     "name": "stdout",
     "output_type": "stream",
     "text": [
      "Predicted: Bag\n",
      "Actual: Bag\n"
     ]
    },
    {
     "data": {
      "image/png": "[encoded data removed]",
      "text/plain": [
       "<Figure size 432x288 with 1 Axes>"
      ]
     },
     "metadata": {
      "needs_background": "light"
     },
     "output_type": "display_data"
    },
    {
     "name": "stdout",
     "output_type": "stream",
     "text": [
      "Predicted: T-shirt/Top\n",
      "Actual: T-shirt/Top\n"
     ]
    },
    {
     "data": {
      "image/png": "[encoded data removed]",
      "text/plain": [
       "<Figure size 432x288 with 1 Axes>"
      ]
     },
     "metadata": {
      "needs_background": "light"
     },
     "output_type": "display_data"
    }
   ],
   "source": [
    "x_new=x_test[:20]\n",
    "y_pred=model.predict_classes(x_new)\n",
    "for i in range(20):\n",
    "    print(\"Predicted: \"+class_names[y_pred[i]])\n",
    "    print(\"Actual: \"+class_names[y_test[i]])\n",
    "    plt.imshow(x_new[i])\n",
    "    plt.show()"
   ]
  },
  {
   "cell_type": "code",
   "execution_count": null,
   "metadata": {},
   "outputs": [],
   "source": []
  },
  {
   "cell_type": "code",
   "execution_count": null,
   "metadata": {},
   "outputs": [],
   "source": []
  }
 ],
 "metadata": {
  "kernelspec": {
   "display_name": "Python 3",
   "language": "python",
   "name": "python3"
  },
  "language_info": {
   "codemirror_mode": {
    "name": "ipython",
    "version": 3
   },
   "file_extension": ".py",
   "mimetype": "text/x-python",
   "name": "python",
   "nbconvert_exporter": "python",
   "pygments_lexer": "ipython3",
   "version": "3.7.6"
  }
 },
 "nbformat": 4,
 "nbformat_minor": 4
}
